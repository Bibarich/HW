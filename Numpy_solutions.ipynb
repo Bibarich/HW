{
  "nbformat": 4,
  "nbformat_minor": 0,
  "metadata": {
    "colab": {
      "provenance": []
    },
    "kernelspec": {
      "name": "python3",
      "display_name": "Python 3"
    },
    "language_info": {
      "name": "python"
    }
  },
  "cells": [
    {
      "cell_type": "code",
      "execution_count": null,
      "metadata": {
        "id": "n77YU1qgDZaE"
      },
      "outputs": [],
      "source": [
        "import numpy as np"
      ]
    },
    {
      "cell_type": "code",
      "source": [
        "array=np.zeros(10)\n",
        "print(\"10 0\")\n",
        "print(array)"
      ],
      "metadata": {
        "id": "7yi-X-ETEdzD"
      },
      "execution_count": null,
      "outputs": []
    },
    {
      "cell_type": "code",
      "source": [
        "array=np.ones(10)\n",
        "print(\"10 1\")\n",
        "print(array)"
      ],
      "metadata": {
        "id": "A6x-Sno8ETi7"
      },
      "execution_count": null,
      "outputs": []
    },
    {
      "cell_type": "code",
      "source": [
        "array=np.ones(10)*5\n",
        "print(\"10 5\")\n",
        "print(array)"
      ],
      "metadata": {
        "id": "POLOzzXvEWQ0"
      },
      "execution_count": null,
      "outputs": []
    },
    {
      "cell_type": "code",
      "source": [
        "array=np.arange(10,51)\n",
        "print(\"10-50\")\n",
        "print(array)"
      ],
      "metadata": {
        "id": "Ly8U35DLEYer"
      },
      "execution_count": null,
      "outputs": []
    },
    {
      "cell_type": "code",
      "source": [
        "array=np.arange(10,51,2)\n",
        "print(\"10-50\")\n",
        "print(array)"
      ],
      "metadata": {
        "id": "ccGPr4FoEiWL"
      },
      "execution_count": null,
      "outputs": []
    },
    {
      "cell_type": "code",
      "source": [
        "matrica=np.arange(0,9).reshape(3,3)\n",
        "print(matrica)"
      ],
      "metadata": {
        "id": "p2q22F27EnIT"
      },
      "execution_count": null,
      "outputs": []
    },
    {
      "cell_type": "code",
      "source": [
        "matrica=np.eye(3)\n",
        "print(matrica)"
      ],
      "metadata": {
        "id": "e5qcNDV5E5HT"
      },
      "execution_count": null,
      "outputs": []
    },
    {
      "cell_type": "code",
      "source": [
        "rand=np.random.rand(1)\n",
        "print (\"0-1\")\n",
        "print(rand)"
      ],
      "metadata": {
        "id": "h2zoNoEqFC98"
      },
      "execution_count": null,
      "outputs": []
    },
    {
      "cell_type": "code",
      "source": [
        "rand=np.random.rand(25)\n",
        "print (\"25 Случайных чисел\")\n",
        "print(rand)"
      ],
      "metadata": {
        "id": "yg00B01pFRus"
      },
      "execution_count": null,
      "outputs": []
    },
    {
      "cell_type": "code",
      "source": [
        "matrica=np.arange(0.01, 1.01, 0.01)\n",
        "print(matrica)"
      ],
      "metadata": {
        "id": "htDtzmNrFl7U"
      },
      "execution_count": null,
      "outputs": []
    },
    {
      "cell_type": "code",
      "source": [
        "matrica=np.arange(1,26).reshape(5,5)\n",
        "print(matrica)"
      ],
      "metadata": {
        "id": "chnF8zeJFypc"
      },
      "execution_count": null,
      "outputs": []
    },
    {
      "cell_type": "code",
      "source": [
        "print('a =', matrica[2:, 1:])"
      ],
      "metadata": {
        "id": "sOYqx7YbF4SM"
      },
      "execution_count": null,
      "outputs": []
    },
    {
      "cell_type": "code",
      "source": [
        "tw = matrica[matrica==20]\n",
        "print(tw)"
      ],
      "metadata": {
        "id": "uWXrSa76GBXU"
      },
      "execution_count": null,
      "outputs": []
    },
    {
      "cell_type": "code",
      "source": [
        "print ('b =', matrica[0:3,1].reshape(3,1))"
      ],
      "metadata": {
        "id": "udd1S_e-Gf2k"
      },
      "execution_count": null,
      "outputs": []
    },
    {
      "cell_type": "code",
      "source": [
        "print('c =', matrica[4:])"
      ],
      "metadata": {
        "id": "oAM0FhvOGpdF"
      },
      "execution_count": null,
      "outputs": []
    },
    {
      "cell_type": "code",
      "source": [
        "print(matrica.sum())"
      ],
      "metadata": {
        "id": "xjfNh_dYG5iN"
      },
      "execution_count": null,
      "outputs": []
    },
    {
      "cell_type": "code",
      "source": [
        "print(matrica.std())"
      ],
      "metadata": {
        "id": "k10h46ycG87l"
      },
      "execution_count": null,
      "outputs": []
    },
    {
      "cell_type": "code",
      "source": [
        "print(matrica.sum(axis=0))"
      ],
      "metadata": {
        "id": "ZWsv3Az9HIut"
      },
      "execution_count": null,
      "outputs": []
    },
    {
      "cell_type": "code",
      "source": [
        "print(np.random.random((3,3,3)))"
      ],
      "metadata": {
        "id": "BO-7W9xdHLuO"
      },
      "execution_count": null,
      "outputs": []
    },
    {
      "cell_type": "code",
      "source": [
        "d=np.random.random((10,10))\n",
        "print(d, \"           \", d.min(), d.max())"
      ],
      "metadata": {
        "id": "OSS4VGfUHSsu"
      },
      "execution_count": null,
      "outputs": []
    }
  ]
}